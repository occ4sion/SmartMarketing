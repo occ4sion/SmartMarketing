{
 "cells": [
  {
   "attachments": {},
   "cell_type": "markdown",
   "metadata": {},
   "source": [
    "#### Список вопросов от бизнеса:\n",
    "- худшие пользователи\n",
    "- бесполезные активы\n",
    "- самые долгие кампании\n",
    "- какие активы лучше продают новое\n",
    "- средний доход по компаниям\n",
    "- популярные AUG"
   ]
  },
  {
   "cell_type": "code",
   "execution_count": 1,
   "metadata": {},
   "outputs": [],
   "source": [
    "import numpy as np\n",
    "import pandas as pd"
   ]
  },
  {
   "cell_type": "code",
   "execution_count": null,
   "metadata": {},
   "outputs": [],
   "source": [
    "company = pd.read_csv('data/company.csv', index_col='id')\n",
    "product = pd.read_csv('data/product.csv', index_col='id')\n",
    "user = pd.read_csv('data/user.csv', index_col='id')\n",
    "asset = pd.read_csv('data/asset.csv', index_col='id')\n",
    "AU = pd.read_csv('data/AssetUser.csv', index_col='id')\n",
    "AUG = pd.read_csv('data/AssetUserGroup.csv')\n",
    "campaign = pd.read_csv('data/campaign.csv', index_col='id')"
   ]
  },
  {
   "cell_type": "code",
   "execution_count": 2,
   "metadata": {},
   "outputs": [],
   "source": [
    "campaign['novelty'] = product.loc[campaign['product'], 'novelty']\n",
    "campaign['benefit'] = campaign.revenue / campaign.budget\n",
    "idx = campaign.sort_values(['novelty','benefit'], ascending=False).head(100).AUG\n",
    "AUG_ = AUG.drop('price', axis=1)\n",
    "limit = (AUG_ * AU.loc[:, 'asset'].values).loc[idx, :]\n",
    "vals, counts = np.vstack(np.unique(limit.values, return_counts=True))[:,1:]\n",
    "np.vstack([vals[np.argsort(counts)], sorted(counts)]).T[::-1]\n"
   ]
  }
 ],
 "metadata": {
  "kernelspec": {
   "display_name": "Python 3.9.6 64-bit",
   "language": "python",
   "name": "python3"
  },
  "language_info": {
   "codemirror_mode": {
    "name": "ipython",
    "version": 3
   },
   "file_extension": ".py",
   "mimetype": "text/x-python",
   "name": "python",
   "nbconvert_exporter": "python",
   "pygments_lexer": "ipython3",
   "version": "3.9.6 (default, Oct 18 2022, 12:41:40) \n[Clang 14.0.0 (clang-1400.0.29.202)]"
  },
  "orig_nbformat": 4,
  "vscode": {
   "interpreter": {
    "hash": "31f2aee4e71d21fbe5cf8b01ff0e069b9275f58929596ceb00d14d90e3e16cd6"
   }
  }
 },
 "nbformat": 4,
 "nbformat_minor": 2
}
